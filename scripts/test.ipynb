{
 "cells": [
  {
   "cell_type": "markdown",
   "metadata": {},
   "source": [
    "# Maximizing loss to decrease perceptual similarity\n",
    "\n",
    "This experiment decreases the perceptual similarity between a stylized image and a reference image.\n",
    "\n",
    "1. Choose a reference image.\n",
    "2. Decrease the perceptual similarity between that reference image and an optimized version of the reference image for a chosen number of iterations.\n",
    "3. Stylize optimized image to decrease edges detectable by CNNs.\n"
   ]
  },
  {
   "cell_type": "markdown",
   "metadata": {},
   "source": [
    "## Import modules\n",
    "\n",
    "Reload updated modules."
   ]
  },
  {
   "cell_type": "code",
   "execution_count": 1,
   "metadata": {},
   "outputs": [
    {
     "name": "stdout",
     "output_type": "stream",
     "text": [
      "/Users/god/private-portraits/venv/bin/python\n"
     ]
    },
    {
     "ename": "ModuleNotFoundError",
     "evalue": "No module named 'src'",
     "output_type": "error",
     "traceback": [
      "\u001b[0;31m---------------------------------------------------------------------------\u001b[0m",
      "\u001b[0;31mModuleNotFoundError\u001b[0m                       Traceback (most recent call last)",
      "Cell \u001b[0;32mIn [1], line 16\u001b[0m\n\u001b[1;32m     11\u001b[0m \u001b[39mimport\u001b[39;00m \u001b[39mos\u001b[39;00m\n\u001b[1;32m     14\u001b[0m \u001b[39mprint\u001b[39m(sys\u001b[39m.\u001b[39mexecutable)\n\u001b[0;32m---> 16\u001b[0m \u001b[39mimport\u001b[39;00m \u001b[39msrc\u001b[39;00m\u001b[39m.\u001b[39;00m\u001b[39mloop\u001b[39;00m \u001b[39mas\u001b[39;00m \u001b[39mopt\u001b[39;00m\n\u001b[1;32m     17\u001b[0m \u001b[39mimport\u001b[39;00m \u001b[39msrc\u001b[39;00m\u001b[39m.\u001b[39;00m\u001b[39mperceptual\u001b[39;00m \u001b[39mas\u001b[39;00m \u001b[39mim\u001b[39;00m\n",
      "\u001b[0;31mModuleNotFoundError\u001b[0m: No module named 'src'"
     ]
    }
   ],
   "source": [
    "%load_ext autoreload\n",
    "%autoreload 2\n",
    "\n",
    "import lpips\n",
    "import torch\n",
    "import matplotlib.pyplot as plt\n",
    "\n",
    "\n",
    "import os\n",
    "import sys\n",
    "import os\n",
    "\n",
    "\n",
    "sys.executable = '/Users/god/private-portraits/venv/bin/python3'\n",
    "\n",
    "\n",
    "import src.loop as opt\n",
    "import src.perceptual as im\n",
    "\n"
   ]
  },
  {
   "cell_type": "markdown",
   "metadata": {},
   "source": [
    "Create a new image with low perceptual similarity to the reference image."
   ]
  },
  {
   "cell_type": "code",
   "execution_count": null,
   "metadata": {},
   "outputs": [],
   "source": [
    "iterations = 100\n",
    "reference_image_path = './tests/test.jpg'\n",
    "results = opt.natural_image_loop(reference_image_path,reference_image_path,iterations)"
   ]
  },
  {
   "cell_type": "markdown",
   "metadata": {},
   "source": [
    "View the results of decreasing perceptual similarity between an optimized image and a reference image."
   ]
  },
  {
   "cell_type": "code",
   "execution_count": null,
   "metadata": {},
   "outputs": [],
   "source": [
    "for result in results:\n",
    "    iteration, distance, original, optimized = result\n",
    "    if iteration % 10 == 0:\n",
    "        fig = plt.figure(1)\n",
    "        ax = fig.add_subplot(131)\n",
    "        ax.imshow(lpips.tensor2im(original))\n",
    "        ax.set_title('original image')\n",
    "        ax = fig.add_subplot(133)\n",
    "        ax.imshow(lpips.tensor2im(optimized))\n",
    "        ax.set_title('optimized image')\n",
    "    "
   ]
  }
 ],
 "metadata": {
  "kernelspec": {
   "display_name": "Python 3.10.3 ('venv': venv)",
   "language": "python",
   "name": "python3"
  },
  "language_info": {
   "codemirror_mode": {
    "name": "ipython",
    "version": 3
   },
   "file_extension": ".py",
   "mimetype": "text/x-python",
   "name": "python",
   "nbconvert_exporter": "python",
   "pygments_lexer": "ipython3",
   "version": "3.10.3"
  },
  "orig_nbformat": 4,
  "vscode": {
   "interpreter": {
    "hash": "87b440d39405770f5a6d6b194a4ec70ec704357bcc7abf56f426be5f57fe8db5"
   }
  }
 },
 "nbformat": 4,
 "nbformat_minor": 2
}
